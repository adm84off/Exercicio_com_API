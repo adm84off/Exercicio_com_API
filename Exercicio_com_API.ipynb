{
  "nbformat": 4,
  "nbformat_minor": 0,
  "metadata": {
    "colab": {
      "name": "Exercicio_com_API.ipynb",
      "provenance": []
    },
    "kernelspec": {
      "name": "python3",
      "display_name": "Python 3"
    },
    "language_info": {
      "name": "python"
    }
  },
  "cells": [
    {
      "cell_type": "code",
      "source": [
        "#Identificação da API do BC que contém o IPCA\n",
        "#Em https://dadosabertos.bcb.gov.br/, o Banco Central disponibiliza diversas bases para consulta pública.\n",
        "#O IPCA foi obtido em https://dadosabertos.bcb.gov.br/dataset/10844-indice-de-precos-ao-consumidor-amplo-ipca---servicos\n",
        "#Importou-se um arquivo json com os dados para transformação e exibição da série temporal mensal com a variação percentual mensal, mas outros formatos estão disponíveis na plataforma.\n",
        "#Para acessar o serviço, entre na url http://api.bcb.gov.br/dados/serie/bcdata.sgs.{codigo_serie}/dados?formato=json&dataInicial={dataInicial}&dataFinal={dataFinal} e informe os parâmetros pedidos:\n",
        "#São eles: codigo_Serie (obrigatório), dataInicial (opcional) e dataFinal (opcional). \n"
      ],
      "metadata": {
        "id": "ecggr5DKQqIk"
      },
      "execution_count": 9,
      "outputs": []
    },
    {
      "cell_type": "code",
      "source": [
        "# Importação de bibliotecas necessárias:\n",
        "# Importando a bibliotca de importação\n",
        "import requests\n",
        "# Importando a bibliotca de leitura de json\n",
        "import json\n",
        "# Importando o pandas para criar o DF\n",
        "import pandas as pd"
      ],
      "metadata": {
        "id": "rHnA_ES2QpZ2"
      },
      "execution_count": 10,
      "outputs": []
    },
    {
      "cell_type": "code",
      "source": [
        "# Coletando os dados:\n",
        "#armazenando a url do json em uma variável temporária\n",
        "ipca = 'http://api.bcb.gov.br/dados/serie/bcdata.sgs.10844/dados?formato=json&dataInicial=01/01/2010&dataFinal=01/06/2022'\n",
        "\n",
        "#extraindo o conteúdo do json\n",
        "conteudo = requests.get(ipca).content\n",
        "\n",
        "#criando um dicionário com o conteúdo do json\n",
        "ipca_dict = json.loads(conteudo)\n",
        "\n",
        "print(ipca_dict)"
      ],
      "metadata": {
        "colab": {
          "base_uri": "https://localhost:8080/"
        },
        "id": "khphvuDSNBDH",
        "outputId": "eba247aa-468f-44df-c5c0-58db62e168a7"
      },
      "execution_count": 11,
      "outputs": [
        {
          "output_type": "stream",
          "name": "stdout",
          "text": [
            "[{'data': '01/01/2010', 'valor': '0.61'}, {'data': '01/02/2010', 'valor': '1.81'}, {'data': '01/03/2010', 'valor': '0.72'}, {'data': '01/04/2010', 'valor': '0.50'}, {'data': '01/05/2010', 'valor': '0.62'}, {'data': '01/06/2010', 'valor': '0.41'}, {'data': '01/07/2010', 'valor': '0.35'}, {'data': '01/08/2010', 'valor': '0.41'}, {'data': '01/09/2010', 'valor': '0.41'}, {'data': '01/10/2010', 'valor': '0.49'}, {'data': '01/11/2010', 'valor': '0.46'}, {'data': '01/12/2010', 'valor': '0.58'}, {'data': '01/01/2011', 'valor': '0.87'}, {'data': '01/02/2011', 'valor': '2.28'}, {'data': '01/03/2011', 'valor': '0.85'}, {'data': '01/04/2011', 'valor': '0.54'}, {'data': '01/05/2011', 'valor': '0.59'}, {'data': '01/06/2011', 'valor': '0.60'}, {'data': '01/07/2011', 'valor': '0.42'}, {'data': '01/08/2011', 'valor': '0.50'}, {'data': '01/09/2011', 'valor': '0.51'}, {'data': '01/10/2011', 'valor': '0.41'}, {'data': '01/11/2011', 'valor': '0.59'}, {'data': '01/12/2011', 'valor': '0.51'}, {'data': '01/01/2012', 'valor': '1.05'}, {'data': '01/02/2012', 'valor': '1.25'}, {'data': '01/03/2012', 'valor': '0.52'}, {'data': '01/04/2012', 'valor': '0.77'}, {'data': '01/05/2012', 'valor': '0.21'}, {'data': '01/06/2012', 'valor': '0.52'}, {'data': '01/07/2012', 'valor': '0.79'}, {'data': '01/08/2012', 'valor': '0.49'}, {'data': '01/09/2012', 'valor': '0.51'}, {'data': '01/10/2012', 'valor': '0.51'}, {'data': '01/11/2012', 'valor': '0.82'}, {'data': '01/12/2012', 'valor': '0.98'}, {'data': '01/01/2013', 'valor': '0.92'}, {'data': '01/02/2013', 'valor': '1.30'}, {'data': '01/03/2013', 'valor': '0.26'}, {'data': '01/04/2013', 'valor': '0.54'}, {'data': '01/05/2013', 'valor': '0.56'}, {'data': '01/06/2013', 'valor': '0.64'}, {'data': '01/07/2013', 'valor': '0.64'}, {'data': '01/08/2013', 'valor': '0.60'}, {'data': '01/09/2013', 'valor': '0.63'}, {'data': '01/10/2013', 'valor': '0.52'}, {'data': '01/11/2013', 'valor': '0.65'}, {'data': '01/12/2013', 'valor': '1.16'}, {'data': '01/01/2014', 'valor': '0.47'}, {'data': '01/02/2014', 'valor': '1.24'}, {'data': '01/03/2014', 'valor': '1.09'}, {'data': '01/04/2014', 'valor': '0.44'}, {'data': '01/05/2014', 'valor': '0.30'}, {'data': '01/06/2014', 'valor': '1.10'}, {'data': '01/07/2014', 'valor': '-0.05'}, {'data': '01/08/2014', 'valor': '0.59'}, {'data': '01/09/2014', 'valor': '0.77'}, {'data': '01/10/2014', 'valor': '0.43'}, {'data': '01/11/2014', 'valor': '0.46'}, {'data': '01/12/2014', 'valor': '1.20'}, {'data': '01/01/2015', 'valor': '0.87'}, {'data': '01/02/2015', 'valor': '1.07'}, {'data': '01/03/2015', 'valor': '0.58'}, {'data': '01/04/2015', 'valor': '0.72'}, {'data': '01/05/2015', 'valor': '0.20'}, {'data': '01/06/2015', 'valor': '0.79'}, {'data': '01/07/2015', 'valor': '0.54'}, {'data': '01/08/2015', 'valor': '0.32'}, {'data': '01/09/2015', 'valor': '0.67'}, {'data': '01/10/2015', 'valor': '0.62'}, {'data': '01/11/2015', 'valor': '0.46'}, {'data': '01/12/2015', 'valor': '0.97'}, {'data': '01/01/2016', 'valor': '0.66'}, {'data': '01/02/2016', 'valor': '1.05'}, {'data': '01/03/2016', 'valor': '0.24'}, {'data': '01/04/2016', 'valor': '0.58'}, {'data': '01/05/2016', 'valor': '0.37'}, {'data': '01/06/2016', 'valor': '0.33'}, {'data': '01/07/2016', 'valor': '0.62'}, {'data': '01/08/2016', 'valor': '0.59'}, {'data': '01/09/2016', 'valor': '0.33'}, {'data': '01/10/2016', 'valor': '0.47'}, {'data': '01/11/2016', 'valor': '0.41'}, {'data': '01/12/2016', 'valor': '0.65'}, {'data': '01/01/2017', 'valor': '0.36'}, {'data': '01/02/2017', 'valor': '0.84'}, {'data': '01/03/2017', 'valor': '0.34'}, {'data': '01/04/2017', 'valor': '0.49'}, {'data': '01/05/2017', 'valor': '0.05'}, {'data': '01/06/2017', 'valor': '0.43'}, {'data': '01/07/2017', 'valor': '0.33'}, {'data': '01/08/2017', 'valor': '0.01'}, {'data': '01/09/2017', 'valor': '0.50'}, {'data': '01/10/2017', 'valor': '0.37'}, {'data': '01/11/2017', 'valor': '0.12'}, {'data': '01/12/2017', 'valor': '0.60'}, {'data': '01/01/2018', 'valor': '0.16'}, {'data': '01/02/2018', 'valor': '0.74'}, {'data': '01/03/2018', 'valor': '0.08'}, {'data': '01/04/2018', 'valor': '0.03'}, {'data': '01/05/2018', 'valor': '-0.09'}, {'data': '01/06/2018', 'valor': '0.26'}, {'data': '01/07/2018', 'valor': '0.68'}, {'data': '01/08/2018', 'valor': '-0.16'}, {'data': '01/09/2018', 'valor': '0.40'}, {'data': '01/10/2018', 'valor': '0.17'}, {'data': '01/11/2018', 'valor': '0.41'}, {'data': '01/12/2018', 'valor': '0.62'}, {'data': '01/01/2019', 'valor': '0.51'}, {'data': '01/02/2019', 'valor': '0.39'}, {'data': '01/03/2019', 'valor': '0.33'}, {'data': '01/04/2019', 'valor': '0.32'}, {'data': '01/05/2019', 'valor': '-0.11'}, {'data': '01/06/2019', 'valor': '0.34'}, {'data': '01/07/2019', 'valor': '0.46'}, {'data': '01/08/2019', 'valor': '0.07'}, {'data': '01/09/2019', 'valor': '0.04'}, {'data': '01/10/2019', 'valor': '0.19'}, {'data': '01/11/2019', 'valor': '0.20'}, {'data': '01/12/2019', 'valor': '0.73'}, {'data': '01/01/2020', 'valor': '0.28'}, {'data': '01/02/2020', 'valor': '0.68'}, {'data': '01/03/2020', 'valor': '-0.14'}, {'data': '01/04/2020', 'valor': '0.25'}, {'data': '01/05/2020', 'valor': '-0.45'}, {'data': '01/06/2020', 'valor': '-0.26'}, {'data': '01/07/2020', 'valor': '-0.10'}, {'data': '01/08/2020', 'valor': '-0.47'}, {'data': '01/09/2020', 'valor': '0.17'}, {'data': '01/10/2020', 'valor': '0.55'}, {'data': '01/11/2020', 'valor': '0.39'}, {'data': '01/12/2020', 'valor': '0.83'}, {'data': '01/01/2021', 'valor': '0.07'}, {'data': '01/02/2021', 'valor': '0.55'}, {'data': '01/03/2021', 'valor': '0.12'}, {'data': '01/04/2021', 'valor': '0.05'}, {'data': '01/05/2021', 'valor': '-0.15'}, {'data': '01/06/2021', 'valor': '0.23'}, {'data': '01/07/2021', 'valor': '0.67'}, {'data': '01/08/2021', 'valor': '0.39'}, {'data': '01/09/2021', 'valor': '0.63'}, {'data': '01/10/2021', 'valor': '1.04'}, {'data': '01/11/2021', 'valor': '0.27'}, {'data': '01/12/2021', 'valor': '0.79'}, {'data': '01/01/2022', 'valor': '0.39'}, {'data': '01/02/2022', 'valor': '1.36'}, {'data': '01/03/2022', 'valor': '0.45'}, {'data': '01/04/2022', 'valor': '0.66'}, {'data': '01/05/2022', 'valor': '0.85'}, {'data': '01/06/2022', 'valor': '0.90'}]\n"
          ]
        }
      ]
    },
    {
      "cell_type": "code",
      "source": [
        "#Transformando os dados:\n",
        "# transformando o dicionário em DF\n",
        "df = pd.DataFrame(ipca_dict)\n",
        "print(df)"
      ],
      "metadata": {
        "colab": {
          "base_uri": "https://localhost:8080/"
        },
        "id": "MDQr_AidOxCW",
        "outputId": "2be32f65-1822-4ba7-9b36-3824befff578"
      },
      "execution_count": 12,
      "outputs": [
        {
          "output_type": "stream",
          "name": "stdout",
          "text": [
            "           data valor\n",
            "0    01/01/2010  0.61\n",
            "1    01/02/2010  1.81\n",
            "2    01/03/2010  0.72\n",
            "3    01/04/2010  0.50\n",
            "4    01/05/2010  0.62\n",
            "..          ...   ...\n",
            "145  01/02/2022  1.36\n",
            "146  01/03/2022  0.45\n",
            "147  01/04/2022  0.66\n",
            "148  01/05/2022  0.85\n",
            "149  01/06/2022  0.90\n",
            "\n",
            "[150 rows x 2 columns]\n"
          ]
        }
      ]
    }
  ]
}